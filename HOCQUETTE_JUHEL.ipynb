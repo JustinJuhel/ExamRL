{
 "cells": [
  {
   "cell_type": "markdown",
   "id": "e804e309",
   "metadata": {},
   "source": [
    "Reinforcement Learning Exam\n",
    "\n",
    "- Year: 2024-2025\n",
    "- Instructor: Richard Combes\n",
    "- Email: richard.combes@centralesupelec.fr\n",
    "- Deadline: 28th febuary at 23h59 (Paris time)\n",
    "\n",
    "\n",
    "Instructions:\n",
    "- the exam is to be done by groups of 2 students\n",
    "- complete this notebook with your answers\n",
    "- your answers will include both the python code as well as figures and explanations in text\n",
    "- when you are done, send this notebook by email to the instructor\n",
    "- to avoid confusion use the following naming convention for your notebook file: \"(name of first student)(name of second student).ipynb\"\n",
    "- any exam received after the deadline will not be considered"
   ]
  },
  {
   "cell_type": "markdown",
   "id": "06439f95",
   "metadata": {},
   "source": [
    "Introduction and Model\n",
    "\n",
    "The goal of this exam is to learn how to drive a car up a hill using reinforcement learning. To do so we will consider the following model.\n",
    "\n",
    "We assume that the car is modelled by a point, located at location $(x,z)$ where $x$ and $z$ denote the coordinates of the car on the $x$ axis and the $z$ axis respectively. The car is located on a hill, so that $z = h(x)$ where $h(x)$ denotes the height of the hill at location $x$ given by\n",
    "$$\n",
    "h(x) = {1 \\over 2} x^2\n",
    "$$\n",
    "\n",
    "Location $(x,z) = (0,0)$ is the bottom of the hill, and location $x=(1,{1 \\over 2})$ is the top of the hill. \n",
    "\n",
    "The goal is for the driver of the car to get the car to the top of the hill as fast as possible, and we assume that once the top of the hill has been reached the experiment stops. An illustration is found below, where the car is represented as a red dot and the target is represented as a green dot."
   ]
  },
  {
   "cell_type": "code",
   "execution_count": 1,
   "id": "e73f8275",
   "metadata": {},
   "outputs": [],
   "source": [
    "%matplotlib inline\n",
    "import numpy as np\n",
    "import matplotlib.pyplot as plt\n",
    "from matplotlib.animation import FuncAnimation\n",
    "from IPython.display import display, HTML\n",
    "import os"
   ]
  },
  {
   "cell_type": "code",
   "execution_count": 2,
   "id": "306fd58f",
   "metadata": {},
   "outputs": [
    {
     "data": {
      "image/png": "[encoded data removed]",
      "text/plain": [
       "<Figure size 432x288 with 1 Axes>"
      ]
     },
     "metadata": {
      "needs_background": "light"
     },
     "output_type": "display_data"
    }
   ],
   "source": [
    "deltax = 0.01\n",
    "x_vector = np.arange(-1,1+deltax,deltax)\n",
    "z_vector = 0.5*(x_vector) ** 2\n",
    "x_0 = 0\n",
    "z_0 = 0\n",
    "plt.figure()\n",
    "plt.plot(x_vector, z_vector)\n",
    "plt.plot(x_0, z_0,'ro')\n",
    "plt.plot(1, 0.5,'go')\n",
    "plt.xlabel('x coordinate')\n",
    "plt.ylabel('z coordinate')\n",
    "plt.show()"
   ]
  },
  {
   "cell_type": "markdown",
   "id": "d61e9af4",
   "metadata": {},
   "source": [
    "Control Strategy\n",
    "\n",
    "To control the car, the driver acts on the engine and its action is modelled by $w \\in \\{-1,0,1\\}$ where $w=0$ means that the engine is inactive, $w=1$ means that the driver is accelerating the car forward as hard as possible, and $w=-1$ means that the driver is accelerating the car backwards as hard as possible.\n",
    "\n",
    "The trajectory of the car is determined by Newton's law which is the second order differential equation:\n",
    "$$\n",
    "    m {d^2  x \\over d t^2}(t) =  {1 \\over \\sqrt{1 + (h'(x(t)))^2}} \\Big[ -g m {h'(x(t)) \\over \\sqrt{1 + (h'(x(t)))^2}} + K m w(t)\\Big]\n",
    "$$\n",
    "with $x(t)$ the location of the car at time $t$, $w(t)$ the action of the driver at time $t$, $m$ the mass of the car, $g$ the gravitational constant and $K$ proportional to the maximal torque of the engine.\n",
    "\n",
    "We assume that the car starts at the bottom of the hill from a dead stop, so that \n",
    "$$\n",
    "\\Big(x(0),{d  x \\over d t}(0)\\Big)  = (0,0)\n",
    "$$\n",
    "\n",
    "The differential equation simplifies to:\n",
    "$$\n",
    "    {d^2  x \\over d t^2}(t) =  - {g x(t) \\over 1 + x(t)^2} +  {K w(t) \\over \\sqrt{1 + x(t)^2}}\n",
    "$$\n",
    "and we assume that $g=10$ and $K=1$ throughout.\n",
    "\n",
    "\n"
   ]
  },
  {
   "cell_type": "markdown",
   "id": "7578424c",
   "metadata": {},
   "source": [
    "Casting the problem as a Markov Decision Process\n",
    "\n",
    "In order to fit the framework seen in class, we consider a discretized time version that can be written as a Markov Decision Process. The state of the system at time instants $k=0,1,...$ is given by its position and speed at time instants $t = k \\Delta$ for $k$ integer:\n",
    "$$\n",
    "s_k = \\Big(s_{k,0},s_{k,1}\\Big) = \\Big( x(k \\Delta) , {d x \\over d t}(k \\Delta) \\Big)\n",
    "$$\n",
    "where $\\Delta$ is a small discretization step. It is noted that the state contains both the position and the speed of the car, which is necessary.\n",
    "\n",
    "The action at time instant $k$ is given by\n",
    "$$\n",
    "a_k = w(k \\Delta t) \\in \\{-1,0,+1\\}   \n",
    "$$\n",
    "The reward is given by\n",
    "$$\n",
    "r_k = 1( |s_{k,0}| \\ge 1 )\n",
    "$$\n",
    "so that the reward is $1$ if the top of the hill has been reached and $0$ otherwise.\n",
    "\n",
    "One can readily check that this defines a Markov Decision Process. \n",
    "\n",
    "The evolution of the state $s$ given the action $a$ is given by discretizing the differential equation above:\n",
    "$$\n",
    "    {s_{k+1,0} - s_{k,0} \\over \\Delta} =  s_{k,1} \\text{     and       } {s_{k+1,1}-s_{k,1} \\over \\Delta}   =  { g s_{k,0} \\over 1 + (s_{k,0})^2 }  +  {K a_k \\over \\sqrt{1 + (s_{k,0})^2} }\n",
    "$$\n",
    "\n",
    "We will consider $\\Delta = 0.01$ throughout."
   ]
  },
  {
   "cell_type": "markdown",
   "id": "c225908a",
   "metadata": {},
   "source": [
    "Getting Started\n",
    "\n",
    "In order to get started you are provided with several pieces of code:\n",
    "- the \"next_state\" subroutine takes as input the current state $s_k$ and the current action $a_k$ and outputs the next state $s_{k+1}$\n",
    "- the \"policy1\" subroutine is an example of a policy. We recall that a policy takes the current state $s_k$ as an input and outputs the current action $a_k$. Here this policy is a simple policy where $a_k=1$ irrespective of $s_k$, meaning that the driver always accelerates the car forward.\n",
    "- the \"generate_episode\" subroutine takes as an input a time horizon $T$ and a policy, and outputs the trajectory of the system $(s_{k})_{k=1,...,T}$.\n",
    "- the last piece of code generates an animation that represents the trajectory of the system under the policy described above\n",
    "\n",
    "You can reuse and modify those pieces of code in order to answer the exam questions.\n",
    "\n",
    "Note: some policies might take a large, possibly infinite, amount of time in order to reach the top of the hill, therefore you should simulate episodes up to a well chosen maximal duration $T_{max}$, in order to avoid infinite loops.\n"
   ]
  },
  {
   "cell_type": "code",
   "execution_count": 3,
   "id": "67c45b5e",
   "metadata": {},
   "outputs": [],
   "source": [
    "def next_state(s,a):\n",
    "    delta = 0.01\n",
    "    g = 10.0\n",
    "    K = 1.0\n",
    "    snext = list(s)\n",
    "    snext[0] = s[0] + s[1]*delta\n",
    "    snext[1] = s[1] + (-g*s[0]/(1 + (s[0])**2) + K*a/np.sqrt(1 + (s[0])**2))*delta\n",
    "    return snext"
   ]
  },
  {
   "cell_type": "code",
   "execution_count": 4,
   "id": "9a9a4087",
   "metadata": {},
   "outputs": [],
   "source": [
    "def policy1(s):\n",
    "    a = 1\n",
    "    return a"
   ]
  },
  {
   "cell_type": "code",
   "execution_count": 5,
   "id": "686161cc",
   "metadata": {},
   "outputs": [],
   "source": [
    "def generate_episode(T,policy):\n",
    "    s_t = []\n",
    "    s = [0.0,0.0]\n",
    "    for t in range(T):\n",
    "        s_t.append(list(s))\n",
    "        a = policy(s)\n",
    "        s = next_state(s,a)\n",
    "    return s_t"
   ]
  },
  {
   "cell_type": "code",
   "execution_count": 15,
   "id": "17cc069a",
   "metadata": {},
   "outputs": [
    {
     "data": {
      "text/plain": [
       "\"%matplotlib notebook\\n\\n\\nT = 1000\\ns_t = generate_episode(T,policy1)\\nfig, ax = plt.subplots()\\nline, = plt.plot(-1, 1,'ro')\\nline1, = plt.plot(1, 0.5,'go')\\nline2, = plt.plot(x_vector, z_vector,'b')\\nax.set_xlim(-1.1,1.1)\\nax.set_ylim(0, 0.6)\\ndef animate(t):\\n    s = s_t[t]\\n    line.set_data((s[0],0.5*s[0]**2))\\n    return line\\nanim = FuncAnimation(fig, animate, frames=(T-1), interval=1000)\\nplt.show()\""
      ]
     },
     "execution_count": 15,
     "metadata": {},
     "output_type": "execute_result"
    }
   ],
   "source": [
    "\"\"\"%matplotlib notebook\n",
    "\n",
    "\n",
    "T = 1000\n",
    "s_t = generate_episode(T,policy1)\n",
    "fig, ax = plt.subplots()\n",
    "line, = plt.plot(-1, 1,'ro')\n",
    "line1, = plt.plot(1, 0.5,'go')\n",
    "line2, = plt.plot(x_vector, z_vector,'b')\n",
    "ax.set_xlim(-1.1,1.1)\n",
    "ax.set_ylim(0, 0.6)\n",
    "def animate(t):\n",
    "    s = s_t[t]\n",
    "    line.set_data((s[0],0.5*s[0]**2))\n",
    "    return line\n",
    "anim = FuncAnimation(fig, animate, frames=(T-1), interval=1000)\n",
    "plt.show()\"\"\""
   ]
  },
  {
   "cell_type": "code",
   "execution_count": 6,
   "id": "17ba9a28",
   "metadata": {},
   "outputs": [
    {
     "name": "stdout",
     "output_type": "stream",
     "text": [
      "Next available GIF path: ./gifs\\animation_14.gif\n"
     ]
    }
   ],
   "source": [
    "import os\n",
    "\n",
    "def get_next_gif_path(folder: str, base_name: str = \"animation\") -> str:\n",
    "    \"\"\"\n",
    "    Determines the next available file path for a new GIF in the given folder.\n",
    "    \n",
    "    :param folder: The directory containing the GIF files.\n",
    "    :param base_name: The base name for the GIF files (default is \"animation\").\n",
    "    :return: The next available file path as a string.\n",
    "    \"\"\"\n",
    "    existing_numbers = []\n",
    "    \n",
    "    # Ensure the folder exists\n",
    "    if not os.path.exists(folder):\n",
    "        os.makedirs(folder)\n",
    "    \n",
    "    # List files in the directory\n",
    "    for file in os.listdir(folder):\n",
    "        if file.startswith(base_name) and file.endswith(\".gif\"):\n",
    "            try:\n",
    "                number = int(file[len(base_name) + 1:-4])  # Extract the number\n",
    "                existing_numbers.append(number)\n",
    "            except ValueError:\n",
    "                continue\n",
    "    \n",
    "    next_number = max(existing_numbers, default=0) + 1\n",
    "    return os.path.join(folder, f\"{base_name}_{next_number}.gif\")\n",
    "\n",
    "# Example usage\n",
    "folder_path = \"./gifs\"\n",
    "new_gif_path = get_next_gif_path(folder_path)\n",
    "print(\"Next available GIF path:\", new_gif_path)"
   ]
  },
  {
   "cell_type": "code",
   "execution_count": 7,
   "id": "1f78d55d",
   "metadata": {},
   "outputs": [
    {
     "name": "stdout",
     "output_type": "stream",
     "text": [
      "The car reached the top of the hill at t=4793.\n"
     ]
    },
    {
     "data": {
      "text/html": [
       "<img src=\"./gifs/animation_9.gif\">"
      ],
      "text/plain": [
       "<IPython.core.display.HTML object>"
      ]
     },
     "metadata": {},
     "output_type": "display_data"
    }
   ],
   "source": [
    "def simulate_policy(policy, T=int(1e4), show=False):\n",
    "    s_t = generate_episode(T, policy)\n",
    "    if show:\n",
    "        fig, ax = plt.subplots()\n",
    "        line, = plt.plot(0, 0, 'ro')\n",
    "        line1, = plt.plot(1, 0.5, 'go')\n",
    "        line2, = plt.plot(x_vector, z_vector, 'b')\n",
    "        ax.set_xlim(-1.1,1.1)\n",
    "        ax.set_ylim(0, 0.6)\n",
    "\n",
    "    def animate(t):\n",
    "        s = s_t[t]\n",
    "        line.set_data([s[0]], [0.5*s[0]**2])\n",
    "        return line\n",
    "    \n",
    "    success_t = 0\n",
    "    for t in range(T):\n",
    "        if abs(s_t[t][0] - 1) < 1e-2 or s_t[t][0] >= 1:\n",
    "            success_t = t\n",
    "            break\n",
    "\n",
    "    if success_t != 0:\n",
    "        print(f\"The car reached the top of the hill at t={success_t}.\")\n",
    "    else:\n",
    "        print(f\"The car did not reach the top of the hill after t_max={T}.\")\n",
    "\n",
    "    if show:\n",
    "        gif_path = get_next_gif_path(\"./gifs\")\n",
    "        if os.path.exists(gif_path):  # Check if the file exists\n",
    "            os.remove(gif_path)       # Delete the file\n",
    "            print(f\"{gif_path} has been deleted.\")\n",
    "        else:\n",
    "            print(f\"{gif_path} does not exist.\")\n",
    "        anim = FuncAnimation(fig, animate, frames=range(0, T, 10), interval=5000 / (10*T))\n",
    "        anim.save(gif_path, writer=\"pillow\")\n",
    "        display(HTML(f'<img src=\"{gif_path}\">'))\n",
    "\n",
    "        plt.close(fig)\n",
    "\n",
    "simulate_policy(policy1, T=5000, show=False)\n",
    "\n",
    "this_gif = \"./gifs/animation_9.gif\"\n",
    "display(HTML(f'<img src=\"{this_gif}\">'))"
   ]
  },
  {
   "cell_type": "markdown",
   "id": "85c2744b",
   "metadata": {},
   "source": [
    "___\n",
    "Question 1. Observe and comment the result of the simple policy described above where $a_k=1$ for all $k$. What is the amount of time required for the car to reach the top of the hill ? Is this policy optimal, and if not, can you suggest a better policy ?"
   ]
  },
  {
   "cell_type": "markdown",
   "id": "82efff48",
   "metadata": {},
   "source": [
    "**Answer:** The car reaches the top of the hill after 4793 states. In this policy, the car always accelerates. The problem is that the absolute speed decreases when $s_{k,0} \\leq 0$ and $a_k = 1$. A better policy is to take advantage of the states where $s_{k,0} \\leq 0$ to set $a_k = -1$ and get even more speed.\n",
    "\n",
    "So the policy would be:\n",
    "- $a_k=1$ when $s_{k,1} \\geq 0$\n",
    "- $a_k=-1$ when $s_{k,1} < 0$"
   ]
  },
  {
   "cell_type": "markdown",
   "id": "805ea537",
   "metadata": {},
   "source": [
    "___\n",
    "Question 2. Consider three policies: \n",
    "- the policy where $a_k = 1$ when $s_{k,0} \\ge 0$, and $a_k = -1$ when $s_{k,0} < 0$ \n",
    "- the policy where $a_k$ is i.i.d. uniformly distributed in $\\{-1,0,1\\}$\n",
    "- the policy where $a_k = 1$ when $s_{k,0} \\ge 0$, and $a_k = 0$ when $s_{k,0} < 0$ \n",
    "\n",
    "For each of those three policies, simulate the trajectory of the system and comment on the time necessary for the car to reach the top of the hill.\n"
   ]
  },
  {
   "cell_type": "code",
   "execution_count": 8,
   "id": "1fee3739",
   "metadata": {},
   "outputs": [
    {
     "name": "stdout",
     "output_type": "stream",
     "text": [
      "The car reached the top of the hill at t=5869.\n",
      "./gifs\\animation_13.gif does not exist.\n"
     ]
    },
    {
     "data": {
      "text/html": [
       "<img src=\"./gifs\\animation_13.gif\">"
      ],
      "text/plain": [
       "<IPython.core.display.HTML object>"
      ]
     },
     "metadata": {},
     "output_type": "display_data"
    }
   ],
   "source": [
    "### FIRST POLICY ###\n",
    "def policy_Q2_1(s):\n",
    "    a = 1 if s[0] >= 0 else -1\n",
    "    return a\n",
    "\n",
    "simulate_policy(policy_Q2_1, show=True)"
   ]
  },
  {
   "cell_type": "markdown",
   "id": "e1416f63",
   "metadata": {},
   "source": [
    "As we can see, with the first policy, the time to reach the top of the hill is 5869, which is longer than the previous simulation. It surprises me. Actually, we notice that the car spends more time on the $s_{k,0}\\leq 0$ area so it may take it longer to reach the top, even it it reaches it with more speed."
   ]
  },
  {
   "cell_type": "code",
   "execution_count": 42,
   "id": "1cde1abd",
   "metadata": {},
   "outputs": [
    {
     "name": "stdout",
     "output_type": "stream",
     "text": [
      "The car reached the top of the hill at t=6629.\n",
      "./gifs\\animation_11.gif does not exist.\n"
     ]
    },
    {
     "data": {
      "text/html": [
       "<img src=\"./gifs\\animation_11.gif\">"
      ],
      "text/plain": [
       "<IPython.core.display.HTML object>"
      ]
     },
     "metadata": {},
     "output_type": "display_data"
    }
   ],
   "source": [
    "### SECOND POLICY ###\n",
    "def policy_Q2_2(s):\n",
    "    a = np.random.choice([-1, 0, 1])\n",
    "    return a\n",
    "\n",
    "simulate_policy(policy_Q2_2, show=True)"
   ]
  },
  {
   "cell_type": "markdown",
   "id": "076c8e70",
   "metadata": {},
   "source": [
    "This policy is clearly not optimal. We observe that the driver takes random decisions and it takes often more time to reach the top, even though for some tries, the car reaches the top faster."
   ]
  },
  {
   "cell_type": "code",
   "execution_count": 43,
   "id": "fc7f736f",
   "metadata": {},
   "outputs": [
    {
     "name": "stdout",
     "output_type": "stream",
     "text": [
      "The car reached the top of the hill at t=5697.\n",
      "./gifs\\animation_12.gif does not exist.\n"
     ]
    },
    {
     "data": {
      "text/html": [
       "<img src=\"./gifs\\animation_12.gif\">"
      ],
      "text/plain": [
       "<IPython.core.display.HTML object>"
      ]
     },
     "metadata": {},
     "output_type": "display_data"
    }
   ],
   "source": [
    "### THIRD POLICY ###\n",
    "def policy_Q2_3(s):\n",
    "    a = 1 if s[0] >= 0 else 0\n",
    "    return a\n",
    "\n",
    "simulate_policy(policy_Q2_3, show=True)"
   ]
  },
  {
   "cell_type": "markdown",
   "id": "5c7a6e8a",
   "metadata": {},
   "source": [
    "This policy is better than the first one (of the 2nd question) but worst than the original one (from question 1). One interpretation can be that by shutting down the engine ($a_k=0$), we don't gain as much speed as we could (by for example decelerating only when $s_{k,0}\\geq 0$ and $s_{k,1}\\leq 0$)."
   ]
  },
  {
   "cell_type": "markdown",
   "id": "09de3a98",
   "metadata": {},
   "source": [
    "___\n",
    "Question 3. We would like to compute the optimal policy which gets the car to the top of the hill as quickly as possible. As seen in class, the optimal policy can be found using dynamic programming, by implementing Value Iteration. Do you believe that it is possible in practice to do so for solving the problem at hand ? Justify your answer using precise quantitative arguments."
   ]
  },
  {
   "cell_type": "markdown",
   "id": "6c30e8b5",
   "metadata": {
    "vscode": {
     "languageId": "latex"
    }
   },
   "source": [
    "Value Iteration runs in $O(|\\mathcal{A}||\\mathcal{S}|^2)$, with $\\mathcal{A},\\mathcal{S}$ the sets of possible actions and possible states. Althgough the number of possible actions is low, the number of states is very important and roughly proportional to $\\frac{1}{\\Delta}^2$, rendering Value Iteration impractical for small quantization sizes."
   ]
  },
  {
   "cell_type": "markdown",
   "id": "a89c4c0a",
   "metadata": {},
   "source": [
    "___\n",
    "Question 4. We now wish to find the best policy amongst a relatively small set of simple policies. We consider the set of policies such that $a_k$ solely depends on the signs of the position $s_{k,0}$ and speed $s_{k,0}$, so that\n",
    "$$\n",
    "a_k = f( \\text{sign}(s_{k,0}),\\text{sign}(s_{k,1}))\n",
    "$$\n",
    "where $f: \\{-1,1\\} \\to \\{-1,0,1\\}$. How many such policies are there ? For each of those policies, simulate the trajectory of the system, find the best one, and provide a physical argument why this policy is indeed the best.\n"
   ]
  },
  {
   "cell_type": "markdown",
   "id": "a3e13f3a",
   "metadata": {},
   "source": [
    "There are only $3^{(2\\times 2)} = 81$ possible policies in this policy set. Each policy can be represented as a 4-element vector giving the value of f for each sign configuration of $s_{k,0},s_{k,1}$."
   ]
  },
  {
   "cell_type": "code",
   "execution_count": null,
   "id": "916c3f80",
   "metadata": {},
   "outputs": [
    {
     "name": "stdout",
     "output_type": "stream",
     "text": [
      "The best policy is ((-1, 1, -1, 1)) with duration 424 steps\n"
     ]
    }
   ],
   "source": [
    "import itertools as iter\n",
    "\n",
    "def get_policy(vals):\n",
    "    '''\n",
    "    returns the policy function f given an value vector, containing the values of f for input signs [(-1,-1),(-1,1),(1,-1),(1,1)]\n",
    "    '''\n",
    "    def f(s):\n",
    "        s0,s1 = int((np.sign(s[0])+1)/2), int((np.sign(s[1])+1)/2) # interpret the signs as bits\n",
    "        return vals[2*s0+s1]\n",
    "    \n",
    "    return f\n",
    "\n",
    "policies = iter.product([-1,0,1], repeat=4) # Enumerate all the possible policies\n",
    "\n",
    "T = 5000\n",
    "best = [np.NaN,np.NaN,np.NaN,np.NaN]\n",
    "best_score = T+1\n",
    "\n",
    "for p in policies:\n",
    "    policy = get_policy(p)\n",
    "    s_t = generate_episode(T,policy)\n",
    "    \n",
    "    for t in range(T):\n",
    "        if abs(s_t[t][0] - 1) < 1e-2 or s_t[t][0] >= 1:\n",
    "            if t<best_score:\n",
    "                best = p\n",
    "                best_score = t\n",
    "            break\n",
    "\n",
    "print('The best policy is ({}) with duration {} steps'.format(best,best_score))"
   ]
  },
  {
   "cell_type": "markdown",
   "id": "e9f8e8aa",
   "metadata": {},
   "source": [
    "This policy is expected since it accelerates as soon as the speed is positive, and reverses as soon as the speed is negative. Whenever we move backward, we take as much momentum as possible by accelerating backwards, and conversely accelarate forwards as much as we can as soon as we start moving forwards."
   ]
  },
  {
   "cell_type": "markdown",
   "id": "55f6780e",
   "metadata": {},
   "source": [
    "___\n",
    "Question 5. Based on the question above, we now propose to apply policy gradient to the problem. We consider a set of parameterized policies, parameterized by a two dimensional vector $\\theta = (\\theta_0,\\theta_1)$, where the action probabilities are given as\n",
    "$$\n",
    "   \\mathbb{P}( a_t = 1| s_t) = \\phi( \\text{sign}(s_{k,0})\\theta_0 + \\theta_1 \\text{sign}(s_{k,1}))\n",
    "\\text{ and } \\mathbb{P}( a_t = -1| s_t) = 1-\\phi( \\text{sign}(s_{k,0})\\theta_0 + \\theta_1 \\text{sign}(s_{k,1}))\n",
    "$$\n",
    "where $\\phi$ is the sigmoidal function \n",
    "$$\n",
    "\\phi(x) = {1 \\over  1+e^{-x}}\n",
    "$$\n",
    "Compute the policy gradient estimate, and implement policy gradient descent as seen in class. How many iterations are necessary in order to obtain a good policy ?\n",
    "\n",
    "Note: you should be careful in how the initial value of $\\theta$ and the step size $\\eta$ are chosen, as those parameters impact the convergence speed and their values should be found by trial and error. \n"
   ]
  },
  {
   "cell_type": "markdown",
   "id": "c958a16d",
   "metadata": {},
   "source": [
    "We start by noting that $\\phi(x) = 1-\\phi(-x)$. Therefore we can write the policy gradient estimator for an episode $(s_t,a_t,r_t)_t$ as :\n",
    "$$g = \\left(\\sum_t\\nabla_{\\!\\theta}\\ ln\\ \\phi(a_t\\langle sgn(s_t),\\theta\\rangle)\\right)\\left(\\sum_t \\lambda^tR_t\\right)$$\n",
    "\n",
    "We can then compute the gradient inside the sum to get :\n",
    "$$g = \\left(\\sum_t s_t\\cdot a_t\\cdot e^{-a_t\\langle sgn(s_t),\\theta\\rangle}\\cdot ln\\ \\phi(a_t\\langle sgn(s_t),\\theta\\rangle)\\right)\\left(\\sum_t\\lambda^t R_t\\right)$$\n",
    "\n",
    "with $sgn$ denoting the signum function.\n",
    "\n",
    "After trial and error, we found that an initial state of $(1000,1000)$ and a learning rate $\\eta=100$ provided a good convergence rate. With this policy family we get an average "
   ]
  },
  {
   "cell_type": "code",
   "execution_count": null,
   "id": "d184684b",
   "metadata": {},
   "outputs": [
    {
     "name": "stderr",
     "output_type": "stream",
     "text": [
      "C:\\Users\\lucas\\AppData\\Local\\Temp/ipykernel_4360/4229210361.py:3: RuntimeWarning: overflow encountered in exp\n",
      "  return 1/(1+np.exp(-x))\n"
     ]
    }
   ],
   "source": [
    "def sigmoid(x):\n",
    "    '''return the values of the sigmoid function at inputs x (ndarray)'''\n",
    "    return 1/(1+np.exp(-x))\n",
    "\n",
    "def get_policy2(theta):\n",
    "    '''Returns the policy function for a parameter vector theta'''\n",
    "    def f(s):\n",
    "        sign = np.sign(s)\n",
    "        p = sigmoid(np.dot(sign,theta))\n",
    "        a = np.random.choice([-1,1],p=[1-p,p])\n",
    "        return a\n",
    "    return f\n",
    "\n",
    "def policy_grad2(theta,s,a):\n",
    "    '''\n",
    "    grad = s*a\n",
    "    grad *= np.exp(-a*np.dot(np.sign(s),theta))\n",
    "    grad *= 1/(sigmoid(a*np.dot(np.sign(s),theta)))\n",
    "    '''\n",
    "    grad = 1-sigmoid(a*np.dot(np.sign(s),theta))\n",
    "    grad *= np.sign(s)*a\n",
    "    return grad\n",
    "\n",
    "def policy_gradient(lamda,I,T,policies,grad,eta,w0):\n",
    "    '''Runs a policy gradient algorithm\n",
    "    Inputs :\n",
    "    - discount factor lamda\n",
    "    - number of episodes I\n",
    "    - number of steps for each episode T\n",
    "    - policy function taking parameter vector as input and returns the associated policy\n",
    "    - grad function giving the gradient of the log-policy for a given parameterisation, a state vector and the chosen action\n",
    "    - learning rate eta\n",
    "    - initial estimate w0'''\n",
    "    w_i = []\n",
    "    R_i = []\n",
    "    w = w0\n",
    "    policy = policies(w)\n",
    "    for i in range(I):\n",
    "        s_t = []\n",
    "        s = [0.0,0.0]\n",
    "        R,L = 0.0,[0.0,0.0]\n",
    "        for t in range(T):\n",
    "            s_t.append(list(s))\n",
    "            a = policy(s)\n",
    "            s = next_state(s,a)\n",
    "            r = s[0]>1\n",
    "            R += lamda**t*r\n",
    "            L -= grad(w,s,a)\n",
    "            if r:\n",
    "                break\n",
    "        w_i.append(w)\n",
    "        R_i.append(R)\n",
    "        w += eta*R*L\n",
    "        policy = policies(w)\n",
    "    return np.mean(w_i,0),R_i,w_i\n",
    "\n",
    "w,R_i,w_i = policy_gradient(0.99,1000,1000,get_policy2,policy_grad2,1e2,[-2400.0,3400.0])"
   ]
  },
  {
   "cell_type": "code",
   "execution_count": null,
   "id": "c2207d0b",
   "metadata": {},
   "outputs": [
    {
     "name": "stderr",
     "output_type": "stream",
     "text": [
      "C:\\Users\\lucas\\AppData\\Local\\Temp/ipykernel_4360/4229210361.py:3: RuntimeWarning: overflow encountered in exp\n",
      "  return 1/(1+np.exp(-x))\n"
     ]
    },
    {
     "name": "stdout",
     "output_type": "stream",
     "text": [
      "Policy gradient descent output : [-2429.52906099  3429.52906099]\n",
      "Mean number of steps : 485.2, Success rate 1.0\n"
     ]
    },
    {
     "data": {
      "image/png": "[encoded data removed]",
      "text/plain": [
       "<Figure size 432x288 with 1 Axes>"
      ]
     },
     "metadata": {
      "needs_background": "light"
     },
     "output_type": "display_data"
    }
   ],
   "source": [
    "# Get the average number of steps with this policy\n",
    "N = 1000\n",
    "T = 1000\n",
    "steps = T*np.ones(N)\n",
    "for i in range(N):\n",
    "    s_t = generate_episode(T,get_policy2(w))\n",
    "    \n",
    "    for t in range(T):\n",
    "        if abs(s_t[t][0] - 1) < 1e-2 or s_t[t][0] >= 1:\n",
    "            steps[i] = t\n",
    "            break\n",
    "\n",
    "plt.figure()\n",
    "plt.plot(range(len(R_i)),np.log(R_i)/np.log(0.99))\n",
    "plt.xlabel('Policy gradient descent iteration')\n",
    "plt.title('Number of steps by policy gradient descent iteration')\n",
    "\n",
    "plt.figure()\n",
    "plt.hist(steps,bins=50)\n",
    "plt.xlabel('Numer of steps')\n",
    "plt.title('Histogram of the number of steps with the optimal policy')\n",
    "\n",
    "print('Policy gradient descent output : {}'.format(w))\n",
    "print('Mean number of steps : {}, Success rate {}'.format(np.mean(steps[steps<T]),np.sum(steps<T)/N)) "
   ]
  },
  {
   "cell_type": "markdown",
   "id": "ea6e93a0",
   "metadata": {},
   "source": [
    "___\n",
    "Question 6. We now wish to apply policy gradient to another set of parameterized policies, once again parameterized by a two dimensional vector $\\theta = (\\theta_0,\\theta_1)$ where the action probabilities are given as\n",
    "$$\n",
    "   \\mathbb{P}( a_t = 1| s_t) = \\phi( s^\\top \\theta)\n",
    "\\text{ and } \\mathbb{P}( a_t = -1| s_t) = 1-\\phi( s^\\top \\theta)\n",
    "$$\n",
    "where $\\phi$ is the sigmoidal function \n",
    "$$\n",
    "\\phi(x) = {1 \\over  1+e^{-x}}\n",
    "$$\n",
    "and\n",
    "$$\n",
    "s^\\top \\theta= s_{k,0} \\theta_0 + \\theta_1 s_{k,1}\n",
    "$$\n",
    "which is the dot product between $s$ and $\\theta$ (i.e. the policy is linear).\n",
    "\n",
    "As in the previous question, compute the policy gradient estimate, and implement policy gradient descent as seen in class. How many iterations are necessary in order to obtain a good policy ?\n"
   ]
  },
  {
   "cell_type": "markdown",
   "id": "8a374484",
   "metadata": {},
   "source": [
    "The computation is very similar to the one from the previous question, which provides us the policy gradient estimator :\n",
    "$$g = \\left(\\sum_t s_t\\cdot a_t\\cdot e^{-a_t\\langle s_t,\\theta\\rangle}\\cdot ln\\ \\phi(a_t\\langle s_t,\\theta\\rangle)\\right)\\left(\\sum_t\\lambda^t R_t\\right)$$"
   ]
  },
  {
   "cell_type": "code",
   "execution_count": 113,
   "id": "8893691d",
   "metadata": {},
   "outputs": [
    {
     "name": "stderr",
     "output_type": "stream",
     "text": [
      "C:\\Users\\lucas\\AppData\\Local\\Temp/ipykernel_4360/4229210361.py:3: RuntimeWarning: overflow encountered in exp\n",
      "  return 1/(1+np.exp(-x))\n"
     ]
    }
   ],
   "source": [
    "def get_policy3(theta):\n",
    "    '''Returns the policy function for a parameter vector theta'''\n",
    "    def f(s):\n",
    "        p = sigmoid(np.dot(s,theta))\n",
    "        a = np.random.choice([-1,1],p=[1-p,p])\n",
    "        return a\n",
    "    return f\n",
    "\n",
    "def policy_grad3(theta,s,a):\n",
    "    '''\n",
    "    grad = s*a\n",
    "    grad *= np.exp(-a*np.dot(np.sign(s),theta))\n",
    "    grad *= 1/(sigmoid(a*np.dot(np.sign(s),theta)))\n",
    "    '''\n",
    "    grad = 1-sigmoid(a*np.dot(s,theta))\n",
    "    grad *= np.array(s)*a\n",
    "    return grad\n",
    "\n",
    "w,R_i,w_i = policy_gradient(0.99,500,1000,get_policy2,policy_grad2,1e2,[500.0,500.0])"
   ]
  },
  {
   "cell_type": "code",
   "execution_count": 117,
   "id": "831a6cf3",
   "metadata": {},
   "outputs": [
    {
     "name": "stderr",
     "output_type": "stream",
     "text": [
      "C:\\Users\\lucas\\AppData\\Local\\Temp/ipykernel_4360/4229210361.py:3: RuntimeWarning: overflow encountered in exp\n",
      "  return 1/(1+np.exp(-x))\n"
     ]
    },
    {
     "name": "stdout",
     "output_type": "stream",
     "text": [
      "Policy gradient descent output : [-1015.20821394  2017.82040993]\n",
      "Mean number of steps : 485.2, Success rate 1.0\n"
     ]
    },
    {
     "data": {
      "image/png": "[encoded data removed]",
      "text/plain": [
       "<Figure size 432x288 with 1 Axes>"
      ]
     },
     "metadata": {
      "needs_background": "light"
     },
     "output_type": "display_data"
    },
    {
     "data": {
      "image/png": "[encoded data removed]",
      "text/plain": [
       "<Figure size 432x288 with 1 Axes>"
      ]
     },
     "metadata": {
      "needs_background": "light"
     },
     "output_type": "display_data"
    }
   ],
   "source": [
    "# Get the average number of steps with this policy\n",
    "N = 1000\n",
    "T = 1000\n",
    "steps = T*np.ones(N)\n",
    "for i in range(N):\n",
    "    s_t = generate_episode(T,get_policy2(w))\n",
    "    \n",
    "    for t in range(T):\n",
    "        if abs(s_t[t][0] - 1) < 1e-2 or s_t[t][0] >= 1:\n",
    "            steps[i] = t\n",
    "            break\n",
    "\n",
    "plt.figure()\n",
    "plt.plot(range(len(R_i)),np.log(R_i)/np.log(0.99))\n",
    "plt.xlabel('Policy gradient descent iteration')\n",
    "plt.title('Number of steps by policy gradient descent iteration')\n",
    "\n",
    "plt.figure()\n",
    "plt.hist(steps,bins=50)\n",
    "plt.xlabel('Numer of steps')\n",
    "plt.title('Histogram of the number of steps with the optimal policy')\n",
    "\n",
    "print('Policy gradient descent output : {}'.format(w))\n",
    "print('Mean number of steps : {}, Success rate {}'.format(np.mean(steps[steps<T]),np.sum(steps<T)/N)) "
   ]
  },
  {
   "cell_type": "markdown",
   "id": "ef616dc7",
   "metadata": {},
   "source": [
    "___\n",
    "Question 7. We now wish to extend our results to a new model where the car is affected by a random wind. The effect of the wind is a random force so that the equation describing the system is modified as:\n",
    "$$\n",
    "{s_{k+1,0} - s_{k,0} \\over \\Delta} =  s_{k,1} \\text{     and       } {s_{k+1,1}-s_{k,1} \\over \\Delta}   =  { g s_{k,0} \\over 1 + (s_{k,0})^2 }  +  {K a_k \\over \\sqrt{1 + (s_{k,0})^2} } + L e_k\n",
    "$$\n",
    "where $e_k$ is i.i.d uniformly distributed in $\\{-1,+1\\}$ to model the random wind and $L$ is a coefficient describing the strength of the wind. We will consider $L=0.1$ here. Redo questions 4 and 5 for this new model, and comment on whether or not the results change (you should create a new  \"next_state\" subroutine in order to reflect this new model)."
   ]
  },
  {
   "cell_type": "code",
   "execution_count": null,
   "id": "215d978a",
   "metadata": {},
   "outputs": [],
   "source": []
  }
 ],
 "metadata": {
  "kernelspec": {
   "display_name": "Python 3",
   "language": "python",
   "name": "python3"
  },
  "language_info": {
   "codemirror_mode": {
    "name": "ipython",
    "version": 3
   },
   "file_extension": ".py",
   "mimetype": "text/x-python",
   "name": "python",
   "nbconvert_exporter": "python",
   "pygments_lexer": "ipython3",
   "version": "3.9.13"
  }
 },
 "nbformat": 4,
 "nbformat_minor": 5
}
